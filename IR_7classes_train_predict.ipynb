{
  "nbformat": 4,
  "nbformat_minor": 0,
  "metadata": {
    "colab": {
      "name": "IR-7classes-train-predict.ipynb",
      "provenance": [],
      "collapsed_sections": [],
      "authorship_tag": "ABX9TyPH5nDTwOgdgqSFvbcUCoq2",
      "include_colab_link": true
    },
    "kernelspec": {
      "name": "python3",
      "display_name": "Python 3"
    },
    "language_info": {
      "name": "python"
    },
    "accelerator": "GPU"
  },
  "cells": [
    {
      "cell_type": "markdown",
      "metadata": {
        "id": "view-in-github",
        "colab_type": "text"
      },
      "source": [
        "<a href=\"https://colab.research.google.com/github/ssnirgudkar/UNet/blob/main/IR_7classes_train_predict.ipynb\" target=\"_parent\"><img src=\"https://colab.research.google.com/assets/colab-badge.svg\" alt=\"Open In Colab\"/></a>"
      ]
    },
    {
      "cell_type": "code",
      "metadata": {
        "id": "x_tPNxafzcjp"
      },
      "source": [
        "# will get raw and segmented images from segments.ai. I am not changing the size of the image for now\n",
        "!pip install --upgrade segments-ai"
      ],
      "execution_count": null,
      "outputs": []
    },
    {
      "cell_type": "code",
      "metadata": {
        "id": "LoJlmxPU1waM"
      },
      "source": [
        "from segments import SegmentsClient\n",
        "api_key = \"a89182567b17766b91773021b18d04574cd75109\"\n",
        "client = SegmentsClient(api_key)"
      ],
      "execution_count": null,
      "outputs": []
    },
    {
      "cell_type": "code",
      "metadata": {
        "colab": {
          "base_uri": "https://localhost:8080/"
        },
        "id": "wiEf4iBS10Xz",
        "outputId": "affcf234-700a-4910-e630-ca49552d2917"
      },
      "source": [
        "# get the release file\n",
        "dataset_identifier = \"ssnirgudkar/IR-2020-10-22-17-33-25-0\"\n",
        "name = \"V2.0\"\n",
        "release = client.get_release(dataset_identifier, name)\n",
        "print(release)"
      ],
      "execution_count": null,
      "outputs": [
        {
          "output_type": "stream",
          "text": [
            "{'uuid': '13189c97-ebd6-4b06-a2dd-779e7bf5b81f', 'name': 'V2.0', 'description': 'Labels are finalized', 'release_type': 'JSON', 'attributes': {'url': 'https://segmentsai-prod.s3.eu-west-2.amazonaws.com/releases/13189c97-ebd6-4b06-a2dd-779e7bf5b81f.json'}, 'status': 'SUCCEEDED', 'status_info': '', 'created_at': '2021-06-19T18:45:20.180168Z', 'samples_count': 62}\n"
          ],
          "name": "stdout"
        }
      ]
    },
    {
      "cell_type": "code",
      "metadata": {
        "colab": {
          "base_uri": "https://localhost:8080/"
        },
        "id": "39bMn_Bo4irh",
        "outputId": "f93b830b-8962-42a0-e45e-74645352335e"
      },
      "source": [
        "# export the release. This exports both the raw image and the labeled image \n",
        "from segments import SegmentsDataset\n",
        "from segments.utils import export_dataset\n",
        "dataset = SegmentsDataset(release, labelset='ground-truth', filter_by=['labeled', 'reviewed'])\n",
        "\n",
        "# Export to COCO panoptic format\n",
        "export_dataset(dataset, export_format='coco-panoptic')\n"
      ],
      "execution_count": 7,
      "outputs": [
        {
          "output_type": "stream",
          "text": [
            " 42%|████▏     | 26/62 [00:00<00:00, 219.28it/s]"
          ],
          "name": "stderr"
        },
        {
          "output_type": "stream",
          "text": [
            "Initializing dataset...\n",
            "Preloading all samples. This may take a while...\n"
          ],
          "name": "stdout"
        },
        {
          "output_type": "stream",
          "text": [
            "100%|██████████| 62/62 [00:00<00:00, 314.12it/s]\n",
            "  5%|▍         | 3/62 [00:00<00:02, 23.85it/s]"
          ],
          "name": "stderr"
        },
        {
          "output_type": "stream",
          "text": [
            "Initialized dataset with 62 images.\n",
            "Exporting dataset. This may take a while...\n"
          ],
          "name": "stdout"
        },
        {
          "output_type": "stream",
          "text": [
            "100%|██████████| 62/62 [00:02<00:00, 22.32it/s]"
          ],
          "name": "stderr"
        },
        {
          "output_type": "stream",
          "text": [
            "Exported to ./export_coco-panoptic_ssnirgudkar_IR-2020-10-22-17-33-25-0_V2.0.json. Images and labels in segments/ssnirgudkar_IR-2020-10-22-17-33-25-0/V2.0\n"
          ],
          "name": "stdout"
        },
        {
          "output_type": "stream",
          "text": [
            "\n"
          ],
          "name": "stderr"
        },
        {
          "output_type": "execute_result",
          "data": {
            "text/plain": [
              "('./export_coco-panoptic_ssnirgudkar_IR-2020-10-22-17-33-25-0_V2.0.json',\n",
              " 'segments/ssnirgudkar_IR-2020-10-22-17-33-25-0/V2.0')"
            ]
          },
          "metadata": {
            "tags": []
          },
          "execution_count": 7
        }
      ]
    },
    {
      "cell_type": "markdown",
      "metadata": {
        "id": "Odlh-TPw7VEn"
      },
      "source": [
        "Because the trainning code is for classes and different image size, I will create new training code here. However i cannot do that until i convert the pixel values from ids to category ids. Idea is that I train sing 7 classes, and then i can use that model to auto segment the other images\n"
      ]
    },
    {
      "cell_type": "markdown",
      "metadata": {
        "id": "9fFlT7-KBA7f"
      },
      "source": [
        ""
      ]
    },
    {
      "cell_type": "code",
      "metadata": {
        "colab": {
          "base_uri": "https://localhost:8080/"
        },
        "id": "mjEtX5-86WwF",
        "outputId": "c19306ef-1808-43b9-9cc6-393f4da50946"
      },
      "source": [
        "# read the downloaded files \n",
        "\n",
        "import os\n",
        "import numpy as np\n",
        "import cv2\n",
        "\n",
        "input_dir = \"/content/segments/ssnirgudkar_IR-2020-10-22-17-33-25-0/V2.0\" # directory containing input raw & labeled images\n",
        "img_size = (512, 640) #it's height and width. it's a 1/2 sized image from the original image from segment.ai\n",
        "num_classes = 7\n",
        "batch_size = 5\n",
        "\n",
        "input_img_paths = sorted(\n",
        "    [\n",
        "        os.path.join(input_dir, fname)\n",
        "        for fname in os.listdir(input_dir)\n",
        "        if fname.endswith(\".png\") and fname not in (\"ground-truth\")\n",
        "    ]\n",
        ")\n",
        "target_img_paths = sorted(\n",
        "    [\n",
        "        os.path.join(input_dir, fname)\n",
        "        for fname in os.listdir(input_dir)\n",
        "        if fname.endswith(\"ground-truth.png\")  \n",
        "    ]\n",
        ")\n",
        "\n",
        "#prints how many files are in the batch\n",
        "print(\"Number of samples:\", len(input_img_paths))\n",
        "\n",
        "#prints the name of 10 sets of input and labeled file\n",
        "for input_path, target_path in zip(input_img_paths[:10], target_img_paths[:10]):\n",
        "    print(input_path, \"|\", target_path)\n",
        "\n",
        "#below code checks if the labels are in the 1 through 3 range (4 classes - sky,water,object,background). \n",
        "#Because if not, then model training gives a NAN error.\n",
        "#it displays the label file that has an error, and the values of the label\n",
        "ideal_label_array = [0,1,2,3,4,5,6] # depends on the number of classes\n",
        "flag = 0 \n",
        "for target_path in (target_img_paths):\n",
        "    target_label_array = (np.unique(cv2.imread(target_path,cv2.IMREAD_UNCHANGED)))\n",
        "    if(set(target_label_array).issubset(set(ideal_label_array))):\n",
        "       flag +=1\n",
        "       #print(\"good label\", flag)\n",
        "    else:    \n",
        "       flag +=1\n",
        "       print(\"Error in label\", flag,target_path,target_label_array )  "
      ],
      "execution_count": 9,
      "outputs": [
        {
          "output_type": "stream",
          "text": [
            "Number of samples: 186\n",
            "/content/segments/ssnirgudkar_IR-2020-10-22-17-33-25-0/V2.0/1603388082.940481.png | /content/segments/ssnirgudkar_IR-2020-10-22-17-33-25-0/V2.0/1603388082.940481_label_ground-truth.png\n",
            "/content/segments/ssnirgudkar_IR-2020-10-22-17-33-25-0/V2.0/1603388082.940481_label_ground-truth.png | /content/segments/ssnirgudkar_IR-2020-10-22-17-33-25-0/V2.0/1603388099.294270_label_ground-truth.png\n",
            "/content/segments/ssnirgudkar_IR-2020-10-22-17-33-25-0/V2.0/1603388082.940481_label_ground-truth_coco-panoptic.png | /content/segments/ssnirgudkar_IR-2020-10-22-17-33-25-0/V2.0/1603388115.497458_label_ground-truth.png\n",
            "/content/segments/ssnirgudkar_IR-2020-10-22-17-33-25-0/V2.0/1603388099.294270.png | /content/segments/ssnirgudkar_IR-2020-10-22-17-33-25-0/V2.0/1603388165.895730_label_ground-truth.png\n",
            "/content/segments/ssnirgudkar_IR-2020-10-22-17-33-25-0/V2.0/1603388099.294270_label_ground-truth.png | /content/segments/ssnirgudkar_IR-2020-10-22-17-33-25-0/V2.0/1603388188.478616_label_ground-truth.png\n",
            "/content/segments/ssnirgudkar_IR-2020-10-22-17-33-25-0/V2.0/1603388099.294270_label_ground-truth_coco-panoptic.png | /content/segments/ssnirgudkar_IR-2020-10-22-17-33-25-0/V2.0/1603388213.024487_label_ground-truth.png\n",
            "/content/segments/ssnirgudkar_IR-2020-10-22-17-33-25-0/V2.0/1603388115.497458.png | /content/segments/ssnirgudkar_IR-2020-10-22-17-33-25-0/V2.0/1603388233.503927_label_ground-truth.png\n",
            "/content/segments/ssnirgudkar_IR-2020-10-22-17-33-25-0/V2.0/1603388115.497458_label_ground-truth.png | /content/segments/ssnirgudkar_IR-2020-10-22-17-33-25-0/V2.0/1603388257.753172_label_ground-truth.png\n",
            "/content/segments/ssnirgudkar_IR-2020-10-22-17-33-25-0/V2.0/1603388115.497458_label_ground-truth_coco-panoptic.png | /content/segments/ssnirgudkar_IR-2020-10-22-17-33-25-0/V2.0/1603388265.894147_label_ground-truth.png\n",
            "/content/segments/ssnirgudkar_IR-2020-10-22-17-33-25-0/V2.0/1603388165.895730.png | /content/segments/ssnirgudkar_IR-2020-10-22-17-33-25-0/V2.0/1603388285.976467_label_ground-truth.png\n",
            "Error in label 13 /content/segments/ssnirgudkar_IR-2020-10-22-17-33-25-0/V2.0/1603388318.501611_label_ground-truth.png [0 1 2 3 5 6 7]\n"
          ],
          "name": "stdout"
        }
      ]
    }
  ]
}