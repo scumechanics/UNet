{
  "nbformat": 4,
  "nbformat_minor": 0,
  "metadata": {
    "colab": {
      "name": "IR_200 images thru UNET",
      "provenance": [],
      "collapsed_sections": [],
      "include_colab_link": true
    },
    "kernelspec": {
      "display_name": "Python 3",
      "language": "python",
      "name": "python3"
    },
    "language_info": {
      "codemirror_mode": {
        "name": "ipython",
        "version": 3
      },
      "file_extension": ".py",
      "mimetype": "text/x-python",
      "name": "python",
      "nbconvert_exporter": "python",
      "pygments_lexer": "ipython3",
      "version": "3.7.0"
    },
    "accelerator": "GPU"
  },
  "cells": [
    {
      "cell_type": "markdown",
      "metadata": {
        "id": "view-in-github",
        "colab_type": "text"
      },
      "source": [
        "<a href=\"https://colab.research.google.com/github/ssnirgudkar/UNet/blob/main/IR_200_images_thru_UNET.ipynb\" target=\"_parent\"><img src=\"https://colab.research.google.com/assets/colab-badge.svg\" alt=\"Open In Colab\"/></a>"
      ]
    },
    {
      "cell_type": "markdown",
      "metadata": {
        "id": "6o_-p5pVmn6r"
      },
      "source": [
        "1. no of classes if mentioned 3, then the labels **can only** have values of 0,1 and 2\n",
        "2. You can check the actual error using CPU, and not GPU\n",
        "3. softmax is good for image segmentation. it's a probablistic algorithm, so the losses also haev to be accordingly \n",
        "4. relu / leakyrelu, adam will work \n",
        "5. **Option 1-** leakyrelu - epoc 50, 62 images of which validation images 3. batch size 3 , kernel_initializer = 'he_normal'- , leakyrelu, sparse_categorical_crossentropy: val_loss went from 87 to 0.2. But it was not continually reducing and was fluctutating.  Output segmentation was good. obstacles were showing up.\n",
        "6. **Option 2- **RELU, epoc 50, total images - 62, validation 3 images, sparse_categorical_crossentropy, kernel_initializer = 'he_normal': Val_loss started from 127 and went to 0.08. was better converging than option 1, but still not always decreasing. Image outpuit better than option1\n",
        "7. Option 3: \n",
        "\n"
      ]
    },
    {
      "cell_type": "markdown",
      "metadata": {
        "id": "754aS1YJgOVn"
      },
      "source": [
        "# Image segmentation with a U-Net-like architecture\n",
        "\n",
        "**Author:** [fchollet](https://twitter.com/fchollet)<br>\n",
        "**Date created:** 2019/03/20<br>\n",
        "**Last modified:** 2020/04/20<br>\n",
        "**Description:** Image segmentation model trained from scratch on the Oxford Pets dataset."
      ]
    },
    {
      "cell_type": "markdown",
      "metadata": {
        "id": "mQcQdRZQgOVo"
      },
      "source": [
        "## Download the data"
      ]
    },
    {
      "cell_type": "code",
      "metadata": {
        "id": "jTVPl0nyi9Ms",
        "colab": {
          "base_uri": "https://localhost:8080/"
        },
        "outputId": "194b8d17-b865-4bb1-8b6b-48669e84fa1d"
      },
      "source": [
        "from google.colab import drive\n",
        "drive.mount('/content/drive')\n",
        "!cd \"drive/My Drive/PhD/IRLabeledDataset\""
      ],
      "execution_count": 1,
      "outputs": [
        {
          "output_type": "stream",
          "text": [
            "Mounted at /content/drive\n"
          ],
          "name": "stdout"
        }
      ]
    },
    {
      "cell_type": "markdown",
      "metadata": {
        "id": "yQgZp6JWgOVp"
      },
      "source": [
        "## Prepare paths of input images and target segmentation masks"
      ]
    },
    {
      "cell_type": "code",
      "metadata": {
        "id": "0qGXBC0LgOVp"
      },
      "source": [
        "import os\n",
        "\n",
        "input_dir = \"/content/drive/MyDrive/PhD/IRLabeledDataset/ir_train_images_4_resized\" # directory containing input images\n",
        "target_dir = \"/content/drive/MyDrive/PhD/IRLabeledDataset/ir_train_masks_4_resized_relabel_only3wasrclasses\" # directory containing segmented images\n",
        "\n",
        "img_size = (640, 512)\n",
        "num_classes = 3\n",
        "batch_size = 3\n",
        "\n",
        "input_img_paths = sorted(\n",
        "    [\n",
        "        os.path.join(input_dir, fname)\n",
        "        for fname in os.listdir(input_dir)\n",
        "        if fname.endswith(\".png\")\n",
        "    ]\n",
        ")\n",
        "target_img_paths = sorted(\n",
        "    [\n",
        "        os.path.join(target_dir, fname)\n",
        "        for fname in os.listdir(target_dir)\n",
        "        if fname.endswith(\".png\") and not fname.startswith(\".\")\n",
        "    ]\n",
        ")\n",
        "\n",
        "print(\"Number of samples:\", len(input_img_paths))\n",
        "\n",
        "for input_path, target_path in zip(input_img_paths[:10], target_img_paths[:10]):\n",
        "    print(input_path, \"|\", target_path)"
      ],
      "execution_count": null,
      "outputs": []
    },
    {
      "cell_type": "markdown",
      "metadata": {
        "id": "xZxuEZuOgOVq"
      },
      "source": [
        "## What does one input image and corresponding segmentation mask look like?"
      ]
    },
    {
      "cell_type": "code",
      "metadata": {
        "id": "4qTygTjxLB_M"
      },
      "source": [
        "import cv2\n",
        "import tensorflow\n",
        "import numpy as np\n",
        "from tensorflow.keras.preprocessing.image import img_to_array\n",
        "import PIL\n",
        "\n",
        "img = cv2.imread('/content/drive/MyDrive/PhD/IRLabeledDataset/ir_train_images_4_resized/1603388082.940481_resized.png')\n",
        "print(img) \n",
        "img1 = cv2.imread('/content/drive/MyDrive/PhD/IRLabeledDataset/ir_train_masks_4_resized_relabel_only3wasrclasses/1603389764.974272_label_ground-truth_resized_relabeled.png', cv2.IMREAD_UNCHANGED)\n",
        "print(img1)\n",
        "array1 = tensorflow.keras.preprocessing.image.img_to_array(img)\n",
        "print(array1) \n",
        "array2 = tensorflow.keras.preprocessing.image.img_to_array(img1)\n",
        "print(array2) \n",
        "print(np.unique(array1))\n",
        "print(np.unique(array2))\n",
        "print(tensorflow.keras.backend.epsilon())\n",
        "print(np.unique(cv2.imread('/content/drive/MyDrive/PhD/IRLabeledDataset/ir_train_images_4_resized/1603388082.940481_resized.png')))\n",
        "print(np.unique(cv2.imread('/content/drive/MyDrive/PhD/IRLabeledDataset/ir_train_masks_4_resized_relabel_only3wasrclasses/1603389764.974272_label_ground-truth_resized_relabeled.png',cv2.IMREAD_UNCHANGED)))\n"
      ],
      "execution_count": null,
      "outputs": []
    },
    {
      "cell_type": "code",
      "metadata": {
        "id": "6ucoLp1UgOVq"
      },
      "source": [
        "from IPython.display import Image, display\n",
        "from tensorflow.keras.preprocessing.image import load_img\n",
        "import PIL\n",
        "from PIL import ImageOps\n",
        "\n",
        "# Display input image #9\n",
        "display(Image(filename=input_img_paths[9]))\n",
        "\n",
        "# Display auto-contrast version of corresponding target (per-pixel categories)\n",
        "img = PIL.ImageOps.autocontrast(load_img(target_img_paths[9]))\n",
        "display(img)"
      ],
      "execution_count": null,
      "outputs": []
    },
    {
      "cell_type": "markdown",
      "metadata": {
        "id": "n26N4oURgOVq"
      },
      "source": [
        "## Prepare `Sequence` class to load & vectorize batches of data"
      ]
    },
    {
      "cell_type": "code",
      "metadata": {
        "id": "UvauKhqOgOVr"
      },
      "source": [
        "from tensorflow import keras\n",
        "import numpy as np\n",
        "from tensorflow.keras.preprocessing.image import load_img\n",
        "\n",
        "\n",
        "class OxfordPets(keras.utils.Sequence):\n",
        "    \"\"\"Helper to iterate over the data (as Numpy arrays).\"\"\"\n",
        "\n",
        "    def __init__(self, batch_size, img_size, input_img_paths, target_img_paths):\n",
        "        self.batch_size = batch_size\n",
        "        self.img_size = img_size\n",
        "        self.input_img_paths = input_img_paths\n",
        "        self.target_img_paths = target_img_paths\n",
        "\n",
        "    def __len__(self):\n",
        "        return len(self.target_img_paths) // self.batch_size\n",
        "\n",
        "    def __getitem__(self, idx):\n",
        "        \"\"\"Returns tuple (input, target) correspond to batch #idx.\"\"\"\n",
        "        i = idx * self.batch_size\n",
        "        batch_input_img_paths = self.input_img_paths[i : i + self.batch_size]\n",
        "        batch_target_img_paths = self.target_img_paths[i : i + self.batch_size]\n",
        "        x = np.zeros((self.batch_size,) + self.img_size + (3,), dtype=\"float32\")\n",
        "        for j, path in enumerate(batch_input_img_paths):\n",
        "            img = load_img(path, target_size=self.img_size)\n",
        "            x[j] = img\n",
        "        y = np.zeros((self.batch_size,) + self.img_size + (1,), dtype=\"uint8\")\n",
        "        for j, path in enumerate(batch_target_img_paths):\n",
        "            img = load_img(path, target_size=self.img_size, color_mode=\"grayscale\")\n",
        "            #in case we want to see if masked image have the right values\n",
        "            #print(tensorflow.keras.preprocessing.image.img_to_array(img))\n",
        "            y[j] = np.expand_dims(img, 2)\n",
        "            # Ground truth labels are 1, 2, 3. Subtract one to make them 0, 1, 2: \n",
        "            #if classes are 3, keras expects masked values to be 0,1,2 only. Cannot take 1,3,5. It checks numerically not just the number of masked values\n",
        "            #y[j] += 1 \n",
        "        return x, y\n"
      ],
      "execution_count": 30,
      "outputs": []
    },
    {
      "cell_type": "markdown",
      "metadata": {
        "id": "O844f7oDgOVr"
      },
      "source": [
        "## Prepare U-Net Xception-style model"
      ]
    },
    {
      "cell_type": "code",
      "metadata": {
        "id": "k-pfuOspgOVr"
      },
      "source": [
        "from tensorflow.keras import layers\n",
        "\n",
        "\n",
        "def get_model(img_size, num_classes):\n",
        "    inputs = keras.Input(shape=img_size + (3,))\n",
        "\n",
        "    ### [First half of the network: downsampling inputs] ###\n",
        "\n",
        "    # Entry block\n",
        "    x = layers.Conv2D(32, 3, strides=2 ,padding=\"same\",kernel_initializer = 'he_normal')(inputs)\n",
        "    x = layers.BatchNormalization()(x)\n",
        "    x = layers.Activation(\"ReLU\")(x)\n",
        "\n",
        "    previous_block_activation = x  # Set aside residual\n",
        "\n",
        "    # Blocks 1, 2, 3 are identical apart from the feature depth.\n",
        "    for filters in [64, 128, 256]:\n",
        "        x = layers.Activation(\"ReLU\")(x)\n",
        "        x = layers.SeparableConv2D(filters, 3, padding=\"same\", kernel_initializer = 'he_normal')(x)\n",
        "        x = layers.BatchNormalization()(x)\n",
        "\n",
        "        x = layers.Activation(\"ReLU\")(x)\n",
        "        x = layers.SeparableConv2D(filters, 3, padding=\"same\", kernel_initializer = 'he_normal')(x)\n",
        "        x = layers.BatchNormalization()(x)\n",
        "\n",
        "        x = layers.MaxPooling2D(3, strides=2, padding=\"same\", )(x)\n",
        "\n",
        "        # Project residual\n",
        "        residual = layers.Conv2D(filters, 1, strides=2, padding=\"same\",  kernel_initializer = 'he_normal')(\n",
        "            previous_block_activation\n",
        "        )\n",
        "        x = layers.add([x, residual])  # Add back residual\n",
        "        previous_block_activation = x  # Set aside next residual\n",
        "\n",
        "    ### [Second half of the network: upsampling inputs] ###\n",
        "\n",
        "    for filters in [256, 128, 64, 32]:\n",
        "        x = layers.Activation(\"ReLU\")(x)\n",
        "        x = layers.Conv2DTranspose(filters, 3,padding=\"same\")(x)\n",
        "        x = layers.BatchNormalization()(x)\n",
        "\n",
        "        x = layers.Activation(\"ReLU\")(x)\n",
        "        x = layers.Conv2DTranspose(filters, 3,padding=\"same\")(x)\n",
        "        x = layers.BatchNormalization()(x)\n",
        "\n",
        "        x = layers.UpSampling2D(2)(x)\n",
        "\n",
        "        # Project residual\n",
        "        residual = layers.UpSampling2D(2)(previous_block_activation)\n",
        "        residual = layers.Conv2D(filters, 1,padding=\"same\", kernel_initializer = 'he_normal')(residual)\n",
        "        x = layers.add([x, residual])  # Add back residual\n",
        "        previous_block_activation = x  # Set aside next residual\n",
        "\n",
        "    # Add a per-pixel classification layer\n",
        "    outputs = layers.Conv2D(num_classes, 3, activation=\"softmax\", padding=\"same\",kernel_initializer = 'he_normal')(x)\n",
        "\n",
        "    # Define the model\n",
        "    model = keras.Model(inputs, outputs)\n",
        "    return model\n",
        "\n",
        "\n",
        "# Free up RAM in case the model definition cells were run multiple times\n",
        "keras.backend.clear_session()\n",
        "\n",
        "# Build model\n",
        "model = get_model(img_size, num_classes)\n",
        "model.summary()"
      ],
      "execution_count": null,
      "outputs": []
    },
    {
      "cell_type": "markdown",
      "metadata": {
        "id": "D88fKSmGgOVs"
      },
      "source": [
        "## Set aside a validation split"
      ]
    },
    {
      "cell_type": "code",
      "metadata": {
        "id": "2eukoj81gOVs"
      },
      "source": [
        "import random\n",
        "\n",
        "# Split our img paths into a training and a validation set\n",
        "val_samples = 3\n",
        "random.Random(1337).shuffle(input_img_paths)\n",
        "random.Random(1337).shuffle(target_img_paths)\n",
        "train_input_img_paths = input_img_paths[:-val_samples]\n",
        "train_target_img_paths = target_img_paths[:-val_samples]\n",
        "val_input_img_paths = input_img_paths[-val_samples:]\n",
        "val_target_img_paths = target_img_paths[-val_samples:]\n",
        "\n",
        "# Instantiate data Sequences for each split\n",
        "train_gen = OxfordPets(\n",
        "    batch_size, img_size, train_input_img_paths, train_target_img_paths\n",
        ")\n",
        "val_gen = OxfordPets(batch_size, img_size, val_input_img_paths, val_target_img_paths)"
      ],
      "execution_count": 32,
      "outputs": []
    },
    {
      "cell_type": "markdown",
      "metadata": {
        "id": "C9yf05kfgOVs"
      },
      "source": [
        "## Train the model"
      ]
    },
    {
      "cell_type": "code",
      "metadata": {
        "id": "g9Mgsn2PgOVt",
        "colab": {
          "base_uri": "https://localhost:8080/"
        },
        "outputId": "55fc4ffc-1d19-413f-ab40-a91e434a8b63"
      },
      "source": [
        "# Configure the model for training.\n",
        "# We use the \"sparse\" version of categorical_crossentropy\n",
        "# because our target data is integers.\n",
        "model.compile(optimizer=\"rmsprop\", loss=\"sparse_categorical_crossentropy\")\n",
        "\n",
        "callbacks = [\n",
        "    keras.callbacks.ModelCheckpoint(\"oxford_segmentation.h5\", save_best_only=True)\n",
        "]\n",
        "\n",
        "# Train the model, doing validation at the end of each epoch.\n",
        "epochs = 50\n",
        "model.fit(train_gen, epochs=epochs, validation_data=val_gen, callbacks=callbacks)"
      ],
      "execution_count": 33,
      "outputs": [
        {
          "output_type": "stream",
          "text": [
            "Epoch 1/50\n",
            "19/19 [==============================] - 9s 303ms/step - loss: 7.2446 - val_loss: 112.2929\n",
            "Epoch 2/50\n"
          ],
          "name": "stdout"
        },
        {
          "output_type": "stream",
          "text": [
            "/usr/local/lib/python3.7/dist-packages/tensorflow/python/keras/utils/generic_utils.py:497: CustomMaskWarning: Custom mask layers require a config and must override get_config. When loading, the custom mask layer must be passed to the custom_objects argument.\n",
            "  category=CustomMaskWarning)\n"
          ],
          "name": "stderr"
        },
        {
          "output_type": "stream",
          "text": [
            "19/19 [==============================] - 5s 282ms/step - loss: 0.7956 - val_loss: 63.7773\n",
            "Epoch 3/50\n",
            "19/19 [==============================] - 5s 284ms/step - loss: 0.5437 - val_loss: 25.8954\n",
            "Epoch 4/50\n",
            "19/19 [==============================] - 5s 283ms/step - loss: 0.1707 - val_loss: 12.1870\n",
            "Epoch 5/50\n",
            "19/19 [==============================] - 5s 280ms/step - loss: 1.5649 - val_loss: 21.3472\n",
            "Epoch 6/50\n",
            "19/19 [==============================] - 5s 279ms/step - loss: 0.1324 - val_loss: 12.1267\n",
            "Epoch 7/50\n",
            "19/19 [==============================] - 5s 277ms/step - loss: 0.1631 - val_loss: 6.1509\n",
            "Epoch 8/50\n",
            "19/19 [==============================] - 5s 275ms/step - loss: 0.1215 - val_loss: 9.1938\n",
            "Epoch 9/50\n",
            "19/19 [==============================] - 5s 273ms/step - loss: 0.2700 - val_loss: 3.0054\n",
            "Epoch 10/50\n",
            "19/19 [==============================] - 5s 273ms/step - loss: 0.0706 - val_loss: 2.0575\n",
            "Epoch 11/50\n",
            "19/19 [==============================] - 5s 273ms/step - loss: 0.1166 - val_loss: 1.6681\n",
            "Epoch 12/50\n",
            "19/19 [==============================] - 5s 272ms/step - loss: 0.7241 - val_loss: 1.9521\n",
            "Epoch 13/50\n",
            "19/19 [==============================] - 5s 272ms/step - loss: 0.0533 - val_loss: 2.1392\n",
            "Epoch 14/50\n",
            "19/19 [==============================] - 5s 276ms/step - loss: 0.0533 - val_loss: 2.4855\n",
            "Epoch 15/50\n",
            "19/19 [==============================] - 5s 279ms/step - loss: 0.1163 - val_loss: 1.1116\n",
            "Epoch 16/50\n",
            "19/19 [==============================] - 5s 279ms/step - loss: 0.0439 - val_loss: 1.1453\n",
            "Epoch 17/50\n",
            "19/19 [==============================] - 5s 279ms/step - loss: 0.1615 - val_loss: 0.9719\n",
            "Epoch 18/50\n",
            "19/19 [==============================] - 5s 280ms/step - loss: 0.0397 - val_loss: 0.4670\n",
            "Epoch 19/50\n",
            "19/19 [==============================] - 5s 275ms/step - loss: 0.1333 - val_loss: 1.3389\n",
            "Epoch 20/50\n",
            "19/19 [==============================] - 5s 275ms/step - loss: 0.0357 - val_loss: 0.3995\n",
            "Epoch 21/50\n",
            "19/19 [==============================] - 5s 274ms/step - loss: 0.0439 - val_loss: 0.8389\n",
            "Epoch 22/50\n",
            "19/19 [==============================] - 5s 276ms/step - loss: 0.0677 - val_loss: 0.5700\n",
            "Epoch 23/50\n",
            "19/19 [==============================] - 5s 276ms/step - loss: 0.0339 - val_loss: 0.2084\n",
            "Epoch 24/50\n",
            "19/19 [==============================] - 5s 277ms/step - loss: 0.0734 - val_loss: 1.0297\n",
            "Epoch 25/50\n",
            "19/19 [==============================] - 5s 277ms/step - loss: 0.0340 - val_loss: 0.6460\n",
            "Epoch 26/50\n",
            "19/19 [==============================] - 5s 277ms/step - loss: 0.1153 - val_loss: 0.4619\n",
            "Epoch 27/50\n",
            "19/19 [==============================] - 5s 277ms/step - loss: 0.1012 - val_loss: 0.8353\n",
            "Epoch 28/50\n",
            "19/19 [==============================] - 5s 278ms/step - loss: 0.0319 - val_loss: 0.0979\n",
            "Epoch 29/50\n",
            "19/19 [==============================] - 5s 277ms/step - loss: 0.0314 - val_loss: 0.0801\n",
            "Epoch 30/50\n",
            "19/19 [==============================] - 5s 277ms/step - loss: 0.0350 - val_loss: 0.1446\n",
            "Epoch 31/50\n",
            "19/19 [==============================] - 5s 273ms/step - loss: 0.0769 - val_loss: 0.0717\n",
            "Epoch 32/50\n",
            "19/19 [==============================] - 5s 274ms/step - loss: 0.0303 - val_loss: 0.0492\n",
            "Epoch 33/50\n",
            "19/19 [==============================] - 5s 274ms/step - loss: 0.0294 - val_loss: 0.0622\n",
            "Epoch 34/50\n",
            "19/19 [==============================] - 5s 275ms/step - loss: 0.0486 - val_loss: 0.0547\n",
            "Epoch 35/50\n",
            "19/19 [==============================] - 5s 275ms/step - loss: 0.0273 - val_loss: 0.0858\n",
            "Epoch 36/50\n",
            "19/19 [==============================] - 5s 276ms/step - loss: 0.0362 - val_loss: 0.0443\n",
            "Epoch 37/50\n",
            "19/19 [==============================] - 5s 275ms/step - loss: 0.0334 - val_loss: 0.0820\n",
            "Epoch 38/50\n",
            "19/19 [==============================] - 5s 276ms/step - loss: 0.0314 - val_loss: 0.0811\n",
            "Epoch 39/50\n",
            "19/19 [==============================] - 5s 276ms/step - loss: 0.0494 - val_loss: 1.1200\n",
            "Epoch 40/50\n",
            "19/19 [==============================] - 5s 275ms/step - loss: 0.0262 - val_loss: 0.2623\n",
            "Epoch 41/50\n",
            "19/19 [==============================] - 5s 275ms/step - loss: 0.0297 - val_loss: 1.5022\n",
            "Epoch 42/50\n",
            "19/19 [==============================] - 5s 277ms/step - loss: 0.0320 - val_loss: 0.0496\n",
            "Epoch 43/50\n",
            "19/19 [==============================] - 5s 277ms/step - loss: 0.0255 - val_loss: 0.0796\n",
            "Epoch 44/50\n",
            "19/19 [==============================] - 5s 277ms/step - loss: 0.0417 - val_loss: 0.0495\n",
            "Epoch 45/50\n",
            "19/19 [==============================] - 5s 280ms/step - loss: 0.0229 - val_loss: 0.0635\n",
            "Epoch 46/50\n",
            "19/19 [==============================] - 5s 278ms/step - loss: 0.0271 - val_loss: 0.0887\n",
            "Epoch 47/50\n",
            "19/19 [==============================] - 5s 274ms/step - loss: 0.0349 - val_loss: 0.1131\n",
            "Epoch 48/50\n",
            "19/19 [==============================] - 5s 278ms/step - loss: 0.0220 - val_loss: 0.0368\n",
            "Epoch 49/50\n",
            "19/19 [==============================] - 5s 276ms/step - loss: 0.0232 - val_loss: 0.0524\n",
            "Epoch 50/50\n",
            "19/19 [==============================] - 5s 275ms/step - loss: 0.0253 - val_loss: 0.0890\n"
          ],
          "name": "stdout"
        },
        {
          "output_type": "execute_result",
          "data": {
            "text/plain": [
              "<tensorflow.python.keras.callbacks.History at 0x7fc29a1975d0>"
            ]
          },
          "metadata": {
            "tags": []
          },
          "execution_count": 33
        }
      ]
    },
    {
      "cell_type": "markdown",
      "metadata": {
        "id": "D9gYCGN4gOVt"
      },
      "source": [
        "## Visualize predictions"
      ]
    },
    {
      "cell_type": "code",
      "metadata": {
        "id": "u11wWRX4gOVt",
        "colab": {
          "base_uri": "https://localhost:8080/",
          "height": 1000
        },
        "outputId": "69d3aceb-64e1-4717-aca7-7a44460e2119"
      },
      "source": [
        "# Generate predictions for all images in the validation set\n",
        "\n",
        "from IPython.display import Image, display\n",
        "import PIL\n",
        "from PIL import ImageOps\n",
        "val_gen = OxfordPets(batch_size, img_size, val_input_img_paths, val_target_img_paths)\n",
        "val_preds = model.predict(val_gen)\n",
        "\n",
        "\n",
        "def display_mask(i):\n",
        "    \"\"\"Quick utility to display a model's prediction.\"\"\"\n",
        "    mask = np.argmax(val_preds[i], axis=-1)\n",
        "    mask = np.expand_dims(mask, axis=-1)\n",
        "    img = PIL.ImageOps.autocontrast(keras.preprocessing.image.array_to_img(mask))\n",
        "    display(img)\n",
        "\n",
        "\n",
        "# Display results for validation image #40. it uses val_inpit_images. so will only pick from the ones that we have kept for validation.\n",
        "i = 0\n",
        "\n",
        "# Display input image\n",
        "display(Image(filename=val_input_img_paths[i]))\n",
        "\n",
        "# Display ground-truth target mask\n",
        "img = PIL.ImageOps.autocontrast(load_img(val_target_img_paths[i]))\n",
        "display(img)\n",
        "\n",
        "# Display mask predicted by our model\n",
        "display_mask(i)  # Note that the model only sees inputs at 150x150."
      ],
      "execution_count": 36,
      "outputs": [
        {
          "output_type": "display_data",
          "data": {
            "image/png": "[encoded data removed]",
            "text/plain": [
              "<IPython.core.display.Image object>"
            ]
          },
          "metadata": {
            "tags": []
          }
        },
        {
          "output_type": "display_data",
          "data": {
            "image/png": "[encoded data removed]",
            "text/plain": [
              "<PIL.Image.Image image mode=RGB size=320x256 at 0x7FC1B822DDD0>"
            ]
          },
          "metadata": {
            "tags": []
          }
        },
        {
          "output_type": "display_data",
          "data": {
            "image/png": "[encoded data removed]",
            "text/plain": [
              "<PIL.Image.Image image mode=L size=512x640 at 0x7FC1B81CFD10>"
            ]
          },
          "metadata": {
            "tags": []
          }
        }
      ]
    }
  ]
}